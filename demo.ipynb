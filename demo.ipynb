{
 "cells": [
  {
   "cell_type": "code",
   "execution_count": 4,
   "metadata": {
    "pycharm": {
     "is_executing": true,
     "name": "#%%\n"
    }
   },
   "outputs": [],
   "source": [
    "from pprint import pprint\n",
    "import sys\n",
    "import getpass\n",
    "\n",
    "if \"./tuleap-rest-api-client/build/lib/\" not in sys.path:\n",
    "    sys.path.append(\"./tuleap-rest-api-client/build/lib/\")\n",
    "\n",
    "from Tuleap.RestClient.Commons import CertificateVerification\n",
    "from Tuleap.RestClient.Connection import Connection\n",
    "from Tuleap.RestClient.Artifacts import Artifacts\n",
    "from Tuleap.RestClient.Trackers import Tracker\n",
    "from Tuleap.RestClient.Projects import Projects\n",
    "\n",
    "from src.ApiClientAddon.CommitAddon import Commits\n",
    "\n",
    "from src.GitHistory.GitHistory import GitHistory\n",
    "\n",
    "from src.Graph.ArtifactsWalker import ArtifactsWalker\n",
    "from src.Graph.ArtifactGraph import ArtifactGraph"
   ]
  },
  {
   "cell_type": "code",
   "execution_count": 5,
   "metadata": {
    "pycharm": {
     "is_executing": true,
     "name": "#%%\n"
    }
   },
   "outputs": [
    {
     "name": "stdout",
     "output_type": "stream",
     "text": [
      "········\n",
      "Can connect to the API: yes\n"
     ]
    }
   ],
   "source": [
    "keyring.get_keyring()\n",
    "tuleap_link = \"https://tuleap.net/api\"  # the link to your tuleap instance (do not forget to add /api)\n",
    "your_api_key = getpass.getpass()\n",
    "\n",
    "connection = Connection()\n",
    "connection.set_access_key(tuleap_link, your_api_key, certificate_verification=CertificateVerification.Enabled)\n",
    "\n",
    "print(f\"Can connect to the API: { 'yes' if connection.call_get_method('/version') else 'no'}\")"
   ]
  },
  {
   "cell_type": "markdown",
   "metadata": {
    "pycharm": {
     "name": "#%% md\n"
    }
   },
   "source": [
    "You can either build the graph from a project:\n",
    "(this can be long, it takes around 2 hours for tuleap.net)"
   ]
  },
  {
   "cell_type": "code",
   "execution_count": null,
   "metadata": {
    "pycharm": {
     "name": "#%%\n"
    }
   },
   "outputs": [],
   "source": [
    "graph = ArtifactGraph()\n",
    "graph.fill_graph_from_project(\"Tuleap\",\n",
    "                              ArtifactsWalker(Commits(connection, repository_id=58), Artifacts(connection)),\n",
    "                              Projects(connection),\n",
    "                              Tracker(connection))"
   ]
  },
  {
   "cell_type": "markdown",
   "metadata": {
    "pycharm": {
     "name": "#%% md\n"
    }
   },
   "source": [
    "Or from an artifact or git reference:"
   ]
  },
  {
   "cell_type": "code",
   "execution_count": null,
   "metadata": {
    "pycharm": {
     "name": "#%%\n"
    }
   },
   "outputs": [],
   "source": [
    "graph = ArtifactGraph()\n",
    "graph.fill_graph_from_artifact(\"8e6896fa659ad7bea33a042fe3d5e0c395c10dc8\",\n",
    "                               ArtifactsWalker(Commits(connection, repository_id=58), Artifacts(connection)),\n",
    "                               through_reverse_links=True,\n",
    "                               depth_limit=3)\n",
    "# for an artifact, just give the id\n",
    "graph.plot_graph()"
   ]
  },
  {
   "cell_type": "markdown",
   "metadata": {
    "pycharm": {
     "name": "#%% md\n"
    }
   },
   "source": [
    "You can save it to a file:"
   ]
  },
  {
   "cell_type": "code",
   "execution_count": null,
   "metadata": {
    "pycharm": {
     "name": "#%%\n"
    }
   },
   "outputs": [],
   "source": [
    "graph.save_graph(\"tuleap_net.graphml\")"
   ]
  },
  {
   "cell_type": "markdown",
   "metadata": {
    "pycharm": {
     "name": "#%% md\n"
    }
   },
   "source": [
    "And re-open it later:"
   ]
  },
  {
   "cell_type": "code",
   "execution_count": null,
   "metadata": {
    "pycharm": {
     "name": "#%%\n"
    }
   },
   "outputs": [],
   "source": [
    "graph = ArtifactGraph()\n",
    "graph.load_graph(\"tuleap_net.graphml\")"
   ]
  },
  {
   "cell_type": "markdown",
   "metadata": {
    "pycharm": {
     "name": "#%% md\n"
    }
   },
   "source": [
    "Here are some functions you can use:"
   ]
  },
  {
   "cell_type": "code",
   "execution_count": null,
   "metadata": {
    "pycharm": {
     "name": "#%%\n"
    }
   },
   "outputs": [],
   "source": [
    "if graph.check_artifacts_connection(\"story #26808\", \"rel #27178\", mode=\"all\", types=[\"None\", \"_is_child\"]):\n",
    "    print(graph.get_paths())\n",
    "print()\n",
    "if graph.search_all_paths_between_artifacts(\"epic #26754\", \"story #26808\", mode=\"all\", cutoff=10):\n",
    "    pprint(graph.get_paths(3))\n",
    "\n"
   ]
  },
  {
   "cell_type": "code",
   "execution_count": null,
   "metadata": {
    "pycharm": {
     "name": "#%%\n"
    }
   },
   "outputs": [],
   "source": [
    "if graph.request_non_connected_vertices():\n",
    "    print(graph.get_artifacts())"
   ]
  },
  {
   "cell_type": "code",
   "execution_count": null,
   "metadata": {
    "pycharm": {
     "name": "#%%\n"
    }
   },
   "outputs": [],
   "source": [
    "# works also with git prefix\n",
    "graph.search_all_accessible_by_type(\"story #26808\", \"rel\")\n",
    "print(graph.get_artifacts())"
   ]
  },
  {
   "cell_type": "code",
   "execution_count": null,
   "metadata": {
    "pycharm": {
     "name": "#%%\n"
    }
   },
   "outputs": [],
   "source": [
    "git = GitHistory(\"/path/to/tuleap/\")  # local git repository root path\n",
    "\n",
    "if git.request_overwritten_commits(\"8e6896fa659ad7bea33a042fe3d5e0c395c10dc8\"):\n",
    "    pprint(git.get_commits())\n",
    "if git.request_linked_artifacts():\n",
    "    pprint(git.get_references())"
   ]
  }
 ],
 "metadata": {
  "kernelspec": {
   "display_name": "Python 3 (ipykernel)",
   "language": "python",
   "name": "python3"
  },
  "language_info": {
   "codemirror_mode": {
    "name": "ipython",
    "version": 3
   },
   "file_extension": ".py",
   "mimetype": "text/x-python",
   "name": "python",
   "nbconvert_exporter": "python",
   "pygments_lexer": "ipython3",
   "version": "3.9.13"
  }
 },
 "nbformat": 4,
 "nbformat_minor": 1
}
